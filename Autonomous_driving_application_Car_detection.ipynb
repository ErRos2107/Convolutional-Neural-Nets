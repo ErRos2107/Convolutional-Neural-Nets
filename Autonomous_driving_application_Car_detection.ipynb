{
  "nbformat": 4,
  "nbformat_minor": 0,
  "metadata": {
    "colab": {
      "name": "Autonomous driving application - Car detection - v3.ipynb",
      "version": "0.3.2",
      "provenance": []
    },
    "kernelspec": {
      "display_name": "Python 3",
      "language": "python",
      "name": "python3"
    }
  },
  "cells": [
    {
      "metadata": {
        "id": "yDMk0abCPZ7P",
        "colab_type": "text"
      },
      "cell_type": "markdown",
      "source": [
        "# Autonomous driving - Car detection\n",
        "\n",
        "Many of the ideas in this notebook are described in the two YOLO papers: Redmon et al., 2016 (https://arxiv.org/abs/1506.02640) and Redmon and Farhadi, 2016 (https://arxiv.org/abs/1612.08242). \n",
        "\n",
        "Let's load the packages:"
      ]
    },
    {
      "metadata": {
        "id": "DNUrNPGhPZ7R",
        "colab_type": "code",
        "colab": {},
        "outputId": "7283783c-fd13-4676-d2bb-8c00efc92406"
      },
      "cell_type": "code",
      "source": [
        "import argparse\n",
        "import os\n",
        "import matplotlib.pyplot as plt\n",
        "from matplotlib.pyplot import imshow\n",
        "import scipy.io\n",
        "import scipy.misc\n",
        "import numpy as np\n",
        "import pandas as pd\n",
        "import PIL\n",
        "import tensorflow as tf\n",
        "from keras import backend as K\n",
        "from keras.layers import Input, Lambda, Conv2D\n",
        "from keras.models import load_model, Model\n",
        "from yolo_utils import read_classes, read_anchors, generate_colors, preprocess_image, draw_boxes, scale_boxes\n",
        "from yad2k.models.keras_yolo import yolo_head, yolo_boxes_to_corners, preprocess_true_boxes, yolo_loss, yolo_body\n",
        "\n",
        "%matplotlib inline"
      ],
      "execution_count": 0,
      "outputs": [
        {
          "output_type": "stream",
          "text": [
            "Using TensorFlow backend.\n"
          ],
          "name": "stderr"
        }
      ]
    },
    {
      "metadata": {
        "id": "-kdedJt2PZ7Z",
        "colab_type": "text"
      },
      "cell_type": "markdown",
      "source": [
        "## 1 - Problem Statement\n",
        "\n",
        "Building a car detection system. The data were collected using a camera mounted to the hood  of the car, which takes pictures of the road ahead every few seconds while you drive around. \n",
        "\n",
        "\n",
        "Every images were labelled by drawing bounding boxes around every car. \n",
        "\n",
        "If there is 80 classes that  YOLO need to recognize, a way to do that is to represent the class label $c$ either as an integer from 1 to 80, or as an 80-dimensional vector (with 80 numbers) one component of which is 1 and the rest of which are 0. \n",
        "\n",
        " pre-trained weights were loaded in this example (would take days on CPU)"
      ]
    },
    {
      "metadata": {
        "id": "YBEYzklLPZ7a",
        "colab_type": "text"
      },
      "cell_type": "markdown",
      "source": [
        "## 2 - YOLO"
      ]
    },
    {
      "metadata": {
        "id": "aXFa6Y4NPZ7b",
        "colab_type": "text"
      },
      "cell_type": "markdown",
      "source": [
        "YOLO (\"you only look once\")most popular algoritm => high accuracy while also being able to run in real-time. The algorithm \"only looks once\" at the image in the sense that it requires only one forward propagation pass through the network to make predictions. After non-max suppression, it then outputs recognized objects together with the bounding boxes.\n",
        "\n",
        "### 2.1 - Model details\n",
        "\n",
        "- The **input** is a batch of images of shape (m, 608, 608, 3)\n",
        "- The **output** is a list of bounding boxes along with the recognized classes. Each bounding box is represented by 6 numbers $(p_c, b_x, b_y, b_h, b_w, c)$ as explained above. If you expand $c$ into an 80-dimensional vector, each bounding box is then represented by 85 numbers. \n",
        "\n",
        "=> 5 anchor boxes such that: IMAGE (m, 608, 608, 3) -> DEEP CNN -> ENCODING (m, 19, 19, 5, 85).\n"
      ]
    },
    {
      "metadata": {
        "id": "Pv63ynhnPZ7m",
        "colab_type": "text"
      },
      "cell_type": "markdown",
      "source": [
        "### 2.2 - Filtering with a threshold on class scores\n",
        "\n",
        " Get rid of any box for which the class \"score\" is less than a chosen threshold. \n",
        "\n",
        "The model gives  a total of 19x19x5x85 numbers, with each box described by 85 numbers. It'll be convenient to rearrange the (19,19,5,85) (or (19,19,425)) dimensional tensor into the following variables:  \n",
        "- `box_confidence`: tensor of shape $(19 \\times 19, 5, 1)$ containing $p_c$ (confidence probability that there's some object) for each of the 5 boxes predicted in each of the 19x19 cells.\n",
        "- `boxes`: tensor of shape $(19 \\times 19, 5, 4)$ containing $(b_x, b_y, b_h, b_w)$ for each of the 5 boxes per cell.\n",
        "- `box_class_probs`: tensor of shape $(19 \\times 19, 5, 80)$ containing the detection probabilities $(c_1, c_2, ... c_{80})$ for each of the 80 classes for each of the 5 boxes per cell.\n",
        "\n",
        "2. For each box, find:\n",
        "    - the index of the class with the maximum box score ([Hint](https://keras.io/backend/#argmax)) (Be careful with what axis you choose; consider using axis=-1)\n",
        "    - the corresponding box score ([Hint](https://keras.io/backend/#max)) (Be careful with what axis you choose; consider using axis=-1)\n",
        "3. Create a mask by using a threshold. As a reminder: `([0.9, 0.3, 0.4, 0.5, 0.1] < 0.4)` returns: `[False, True, False, False, True]`. The mask should be True for the boxes you want to keep. \n",
        "4. Use TensorFlow to apply the mask to box_class_scores, boxes and box_classes to filter out the boxes we don't want. You should be left with just the subset of boxes you want to keep. ([Hint](https://www.tensorflow.org/api_docs/python/tf/boolean_mask))\n"
      ]
    },
    {
      "metadata": {
        "id": "y3eiNiVRPZ7o",
        "colab_type": "code",
        "colab": {}
      },
      "cell_type": "code",
      "source": [
        "\n",
        "def yolo_filter_boxes(box_confidence, boxes, box_class_probs, threshold = .6):\n",
        "    \"\"\"Filters YOLO boxes by thresholding on object and class confidence.\n",
        "    \n",
        "    Arguments:\n",
        "    box_confidence -- tensor of shape (19, 19, 5, 1)\n",
        "    boxes -- tensor of shape (19, 19, 5, 4)\n",
        "    box_class_probs -- tensor of shape (19, 19, 5, 80)\n",
        "    threshold -- real value, if [ highest class probability score < threshold], then get rid of the corresponding box\n",
        "    \n",
        "    Returns:\n",
        "    scores -- tensor of shape (None,), containing the class probability score for selected boxes\n",
        "    boxes -- tensor of shape (None, 4), containing (b_x, b_y, b_h, b_w) coordinates of selected boxes\n",
        "    classes -- tensor of shape (None,), containing the index of the class detected by the selected boxes\n",
        "    \n",
        "    Note: \"None\" is here because you don't know the exact number of selected boxes, as it depends on the threshold. \n",
        "    For example, the actual output size of scores would be (10,) if there are 10 boxes.\n",
        "    \"\"\"\n",
        "    \n",
        "    # Step 1: Compute box scores\n",
        "    box_scores = box_confidence*box_class_probs\n",
        "    \n",
        "    # Step 2: Find the box_classes thanks to the max box_scores, keep track of the corresponding score\n",
        "    box_classes = K.argmax(box_scores, axis=-1)\n",
        "    box_class_scores = K.max(box_scores, axis=-1)\n",
        "    \n",
        "    # Step 3: Create a filtering mask based on \"box_class_scores\" by using \"threshold\". The mask should have the\n",
        "    # same dimension as box_class_scores, and be True for the boxes you want to keep (with probability >= threshold)\n",
        "    filtering_mask = K.greater_equal(box_class_scores, threshold)\n",
        "    \n",
        "    # Step 4: Apply the mask to scores, boxes and classes\n",
        "    scores = tf.boolean_mask(box_class_scores,filtering_mask)\n",
        "    boxes = tf.boolean_mask(boxes,filtering_mask)\n",
        "    classes = tf.boolean_mask(box_classes,filtering_mask)\n",
        "    \n",
        "    return scores, boxes, classes"
      ],
      "execution_count": 0,
      "outputs": []
    },
    {
      "metadata": {
        "id": "XTOJtcsBPZ7r",
        "colab_type": "code",
        "colab": {},
        "outputId": "3f84753d-6168-4a3b-b924-7e836198de5e"
      },
      "cell_type": "code",
      "source": [
        "with tf.Session() as test_a:\n",
        "    box_confidence = tf.random_normal([19, 19, 5, 1], mean=1, stddev=4, seed = 1)\n",
        "    boxes = tf.random_normal([19, 19, 5, 4], mean=1, stddev=4, seed = 1)\n",
        "    box_class_probs = tf.random_normal([19, 19, 5, 80], mean=1, stddev=4, seed = 1)\n",
        "    scores, boxes, classes = yolo_filter_boxes(box_confidence, boxes, box_class_probs, threshold = 0.5)\n",
        "    print(\"scores[2] = \" + str(scores[2].eval()))\n",
        "    print(\"boxes[2] = \" + str(boxes[2].eval()))\n",
        "    print(\"classes[2] = \" + str(classes[2].eval()))\n",
        "    print(\"scores.shape = \" + str(scores.shape))\n",
        "    print(\"boxes.shape = \" + str(boxes.shape))\n",
        "    print(\"classes.shape = \" + str(classes.shape))"
      ],
      "execution_count": 0,
      "outputs": [
        {
          "output_type": "stream",
          "text": [
            "scores[2] = 10.7506\n",
            "boxes[2] = [ 8.42653275  3.27136683 -0.5313437  -4.94137383]\n",
            "classes[2] = 7\n",
            "scores.shape = (?,)\n",
            "boxes.shape = (?, 4)\n",
            "classes.shape = (?,)\n"
          ],
          "name": "stdout"
        }
      ]
    },
    {
      "metadata": {
        "id": "lR7EZDlXPZ7v",
        "colab_type": "text"
      },
      "cell_type": "markdown",
      "source": [
        "### 2.3 - Non-max suppression ###\n",
        "\n",
        "Even after filtering by thresholding over the classes scores,we still end up a lot of overlapping boxes. A second filter for selecting the right boxes is called non-maximum suppression (NMS). "
      ]
    },
    {
      "metadata": {
        "id": "p9IAYk7cPZ7x",
        "colab_type": "text"
      },
      "cell_type": "markdown",
      "source": [
        "Non-max suppression uses the very important function called **\"Intersection over Union\"**, or IoU.\n",
        "\n",
        "In this code, we use the convention that (0,0) is the top-left corner of an image, (1,0) is the upper-right corner, and (1,1) the lower-right corner. "
      ]
    },
    {
      "metadata": {
        "id": "mdrIo3UYPZ7y",
        "colab_type": "code",
        "colab": {}
      },
      "cell_type": "code",
      "source": [
        "\n",
        "def iou(box1, box2):\n",
        "    \"\"\"Implement the intersection over union (IoU) between box1 and box2\n",
        "    \n",
        "    Arguments:\n",
        "    box1 -- first box, list object with coordinates (x1, y1, x2, y2)\n",
        "    box2 -- second box, list object with coordinates (x1, y1, x2, y2)\n",
        "    \"\"\"\n",
        "\n",
        "    # Calculate the (y1, x1, y2, x2) coordinates of the intersection of box1 and box2. Calculate its Area.\n",
        "    xi1 = max(box1[0], box2[0])\n",
        "    yi1 = max(box1[1], box2[1])\n",
        "    xi2 = min(box1[2], box2[2])\n",
        "    yi2 = min(box1[3], box2[3])\n",
        "    inter_area = max((xi2 - xi1),0)*max((yi2 - yi1),0)\n",
        "\n",
        "    # Calculate the Union area by using Formula: Union(A,B) = A + B - Inter(A,B)\n",
        "    box1_area = (box1[3] - box1[1])*(box1[2]- box1[0])\n",
        "    box2_area = (box2[3] - box2[1])*(box2[2]- box2[0])\n",
        "    union_area = (box1_area+box2_area)-inter_area\n",
        "    \n",
        "    # compute the IoU\n",
        "    iou = float(inter_area/union_area)\n",
        "    \n",
        "    return iou"
      ],
      "execution_count": 0,
      "outputs": []
    },
    {
      "metadata": {
        "id": "l3-kv3lUPZ71",
        "colab_type": "text"
      },
      "cell_type": "markdown",
      "source": [
        "box1 = (2, 1, 4, 3)\n",
        "box2 = (1, 2, 3, 4) \n",
        "print(\"iou = \" + str(iou(box1, box2)))"
      ]
    },
    {
      "metadata": {
        "id": "5pXnNk77PZ77",
        "colab_type": "code",
        "colab": {}
      },
      "cell_type": "code",
      "source": [
        "# yolo_non_max_suppression\n",
        "\n",
        "def yolo_non_max_suppression(scores, boxes, classes, max_boxes = 10, iou_threshold = 0.5):\n",
        "    \"\"\"\n",
        "    Applies Non-max suppression (NMS) to set of boxes\n",
        "    \n",
        "    Arguments:\n",
        "    scores -- tensor of shape (None,), output of yolo_filter_boxes()\n",
        "    boxes -- tensor of shape (None, 4), output of yolo_filter_boxes() that have been scaled to the image size (see later)\n",
        "    classes -- tensor of shape (None,), output of yolo_filter_boxes()\n",
        "    max_boxes -- integer, maximum number of predicted boxes you'd like\n",
        "    iou_threshold -- real value, \"intersection over union\" threshold used for NMS filtering\n",
        "    \n",
        "    Returns:\n",
        "    scores -- tensor of shape (, None), predicted score for each box\n",
        "    boxes -- tensor of shape (4, None), predicted box coordinates\n",
        "    classes -- tensor of shape (, None), predicted class for each box\n",
        "    \n",
        "    Note: The \"None\" dimension of the output tensors has obviously to be less than max_boxes. Note also that this\n",
        "    function will transpose the shapes of scores, boxes, classes. This is made for convenience.\n",
        "    \"\"\"\n",
        "    \n",
        "    max_boxes_tensor = K.variable(max_boxes, dtype='int32')     # tensor to be used in tf.image.non_max_suppression()\n",
        "    K.get_session().run(tf.variables_initializer([max_boxes_tensor])) # initialize variable max_boxes_tensor\n",
        "    \n",
        "    # Use tf.image.non_max_suppression() to get the list of indices corresponding to boxes you keep\n",
        "    nms_indices = tf.image.non_max_suppression(boxes=boxes,scores=scores,max_output_size=max_boxes,\n",
        "                                               iou_threshold=iou_threshold)\n",
        "  \n",
        "    # Use K.gather() to select only nms_indices from scores, boxes and classes\n",
        "    scores = K.gather(scores,indices=nms_indices)\n",
        "    boxes = K.gather(boxes,indices=nms_indices)\n",
        "    classes = K.gather(classes,indices=nms_indices)\n",
        "    \n",
        "    return scores, boxes, classes"
      ],
      "execution_count": 0,
      "outputs": []
    },
    {
      "metadata": {
        "id": "t6ix0LqbPZ7-",
        "colab_type": "code",
        "colab": {},
        "outputId": "d88cb14f-d637-48fa-c247-d4e7f761ee6a"
      },
      "cell_type": "code",
      "source": [
        "with tf.Session() as test_b:\n",
        "    scores = tf.random_normal([54,], mean=1, stddev=4, seed = 1)\n",
        "    boxes = tf.random_normal([54, 4], mean=1, stddev=4, seed = 1)\n",
        "    classes = tf.random_normal([54,], mean=1, stddev=4, seed = 1)\n",
        "    scores, boxes, classes = yolo_non_max_suppression(scores, boxes, classes)\n",
        "    print(\"scores[2] = \" + str(scores[2].eval()))\n",
        "    print(\"boxes[2] = \" + str(boxes[2].eval()))\n",
        "    print(\"classes[2] = \" + str(classes[2].eval()))\n",
        "    print(\"scores.shape = \" + str(scores.eval().shape))\n",
        "    print(\"boxes.shape = \" + str(boxes.eval().shape))\n",
        "    print(\"classes.shape = \" + str(classes.eval().shape))"
      ],
      "execution_count": 0,
      "outputs": [
        {
          "output_type": "stream",
          "text": [
            "scores[2] = 6.9384\n",
            "boxes[2] = [-5.299932    3.13798141  4.45036697  0.95942086]\n",
            "classes[2] = -2.24527\n",
            "scores.shape = (10,)\n",
            "boxes.shape = (10, 4)\n",
            "classes.shape = (10,)\n"
          ],
          "name": "stdout"
        }
      ]
    },
    {
      "metadata": {
        "id": "fZrnQEFUPZ8C",
        "colab_type": "code",
        "colab": {},
        "outputId": "617c7bcd-7ac5-4671-be70-20af741a22da"
      },
      "cell_type": "code",
      "source": [
        "tf.random_normal([54, 4], mean=1, stddev=4, seed = 1)"
      ],
      "execution_count": 0,
      "outputs": [
        {
          "output_type": "execute_result",
          "data": {
            "text/plain": [
              "<tf.Tensor 'random_normal_32:0' shape=(54, 4) dtype=float32>"
            ]
          },
          "metadata": {
            "tags": []
          },
          "execution_count": 73
        }
      ]
    },
    {
      "metadata": {
        "id": "NGhiKDzTPZ8N",
        "colab_type": "code",
        "colab": {}
      },
      "cell_type": "code",
      "source": [
        "# yolo_eval\n",
        "\n",
        "def yolo_eval(yolo_outputs, image_shape = (720., 1280.), max_boxes=10, score_threshold=.6, iou_threshold=.5):\n",
        "    \"\"\"\n",
        "    Converts the output of YOLO encoding (a lot of boxes) to your predicted boxes along with their scores, box coordinates and classes.\n",
        "    \n",
        "    Arguments:\n",
        "    yolo_outputs -- output of the encoding model (for image_shape of (608, 608, 3)), contains 4 tensors:\n",
        "                    box_confidence: tensor of shape (None, 19, 19, 5, 1)\n",
        "                    box_xy: tensor of shape (None, 19, 19, 5, 2)\n",
        "                    box_wh: tensor of shape (None, 19, 19, 5, 2)\n",
        "                    box_class_probs: tensor of shape (None, 19, 19, 5, 80)\n",
        "    image_shape -- tensor of shape (2,) containing the input shape, in this notebook we use (608., 608.) (has to be float32 dtype)\n",
        "    max_boxes -- integer, maximum number of predicted boxes you'd like\n",
        "    score_threshold -- real value, if [ highest class probability score < threshold], then get rid of the corresponding box\n",
        "    iou_threshold -- real value, \"intersection over union\" threshold used for NMS filtering\n",
        "    \n",
        "    Returns:\n",
        "    scores -- tensor of shape (None, ), predicted score for each box\n",
        "    boxes -- tensor of shape (None, 4), predicted box coordinates\n",
        "    classes -- tensor of shape (None,), predicted class for each box\n",
        "    \"\"\"\n",
        "    \n",
        "    \n",
        "    # Retrieve outputs of the YOLO model (≈1 line)\n",
        "    box_confidence, box_xy, box_wh, box_class_probs = yolo_outputs\n",
        "\n",
        "    # Convert boxes to be ready for filtering functions \n",
        "    boxes = yolo_boxes_to_corners(box_xy, box_wh)\n",
        "\n",
        "    # Use one of the functions you've implemented to perform Score-filtering with a threshold of score_threshold (≈1 line)\n",
        "    scores, boxes, classes = yolo_filter_boxes(box_confidence, boxes, box_class_probs, score_threshold)\n",
        "    \n",
        "    # Scale boxes back to original image shape.\n",
        "    boxes = scale_boxes(boxes, image_shape)\n",
        "\n",
        "    # Use one of the functions you've implemented to perform Non-max suppression with a threshold of iou_threshold (≈1 line)\n",
        "    scores, boxes, classes = yolo_non_max_suppression(scores, boxes, classes, max_boxes,iou_threshold)\n",
        "    \n",
        "    \n",
        "    return scores, boxes, classes"
      ],
      "execution_count": 0,
      "outputs": []
    },
    {
      "metadata": {
        "colab_type": "code",
        "outputId": "fe66847c-1f36-4c46-b1ba-90a9e4813871",
        "id": "_InqQrGISqP2",
        "colab": {}
      },
      "cell_type": "code",
      "source": [
        "with tf.Session() as test_b:\n",
        "    yolo_outputs = (tf.random_normal([19, 19, 5, 1], mean=1, stddev=4, seed = 1),\n",
        "                    tf.random_normal([19, 19, 5, 2], mean=1, stddev=4, seed = 1),\n",
        "                    tf.random_normal([19, 19, 5, 2], mean=1, stddev=4, seed = 1),\n",
        "                    tf.random_normal([19, 19, 5, 80], mean=1, stddev=4, seed = 1))\n",
        "    scores, boxes, clsses = yolo_eval(yolo_outputs)\n",
        "    print(\"scores[2] = \" + str(scores[2].eval()))\n",
        "    print(\"boxes[2] = \" + str(boxes[2].eval()))\n",
        "    print(\"classes[2] = \" + str(classes[2].eval()))\n",
        "    print(\"scores.shape = \" + str(scores.eval().shape))\n",
        "    print(\"boxes.shape = \" + str(boxes.eval().shape))\n",
        "    print(\"classes.shape = \" + str(classes.eval().shape))"
      ],
      "execution_count": 0,
      "outputs": [
        {
          "output_type": "stream",
          "text": [
            "scores[2] = 138.791\n",
            "boxes[2] = [ 1292.32971191  -278.52166748  3876.98925781  -835.56494141]\n",
            "classes[2] = 54\n",
            "scores.shape = (10,)\n",
            "boxes.shape = (10, 4)\n",
            "classes.shape = (10,)\n"
          ],
          "name": "stdout"
        }
      ]
    },
    {
      "metadata": {
        "id": "_F154-uCPZ8i",
        "colab_type": "text"
      },
      "cell_type": "markdown",
      "source": [
        "<font color='blue'>\n",
        "**Summary for YOLO**:\n",
        "- Input image (608, 608, 3)\n",
        "- The input image goes through a CNN, resulting in a (19,19,5,85) dimensional output. \n",
        "- After flattening the last two dimensions, the output is a volume of shape (19, 19, 425):\n",
        "    - Each cell in a 19x19 grid over the input image gives 425 numbers. \n",
        "    - 425 = 5 x 85 because each cell contains predictions for 5 boxes, corresponding to 5 anchor boxes, as seen in lecture. \n",
        "    - 85 = 5 + 80 where 5 is because $(p_c, b_x, b_y, b_h, b_w)$ has 5 numbers, and and 80 is the number of classes we'd like to detect\n",
        "-  select only few boxes based on:\n",
        "    - Score-thresholding: throw away boxes that have detected a class with a score less than the threshold\n",
        "    - Non-max suppression: Compute the Intersection over Union and avoid selecting overlapping boxes\n",
        "- This gives  YOLO's final output. "
      ]
    },
    {
      "metadata": {
        "id": "BLggNdrWPZ8l",
        "colab_type": "text"
      },
      "cell_type": "markdown",
      "source": [
        "## 3 - Test YOLO pretrained model on images"
      ]
    },
    {
      "metadata": {
        "id": "FIEDoD42PZ8o",
        "colab_type": "text"
      },
      "cell_type": "markdown",
      "source": [
        "We use a pretrained model and test it on the car detection dataset."
      ]
    },
    {
      "metadata": {
        "id": "tBCUlTRIPZ8p",
        "colab_type": "code",
        "colab": {}
      },
      "cell_type": "code",
      "source": [
        "sess = K.get_session()"
      ],
      "execution_count": 0,
      "outputs": []
    },
    {
      "metadata": {
        "id": "WIGx_aAePZ8w",
        "colab_type": "text"
      },
      "cell_type": "markdown",
      "source": [
        "### 3.1 - Defining classes, anchors and image shape."
      ]
    },
    {
      "metadata": {
        "id": "6dJEkaLRPZ80",
        "colab_type": "code",
        "colab": {}
      },
      "cell_type": "code",
      "source": [
        "class_names = read_classes(\"model_data/coco_classes.txt\")\n",
        "anchors = read_anchors(\"model_data/yolo_anchors.txt\")\n",
        "image_shape = (720., 1280.)    "
      ],
      "execution_count": 0,
      "outputs": []
    },
    {
      "metadata": {
        "id": "1F9BfbqnPZ83",
        "colab_type": "text"
      },
      "cell_type": "markdown",
      "source": [
        "### 3.2 - Loading a pretrained model\n",
        "\n",
        " load the model from the file."
      ]
    },
    {
      "metadata": {
        "id": "C7-4dmZ6PZ83",
        "colab_type": "code",
        "colab": {},
        "outputId": "dd843f60-bf92-462d-a63a-536b10b12764"
      },
      "cell_type": "code",
      "source": [
        "yolo_model = load_model(\"model_data/yolo.h5\")"
      ],
      "execution_count": 0,
      "outputs": [
        {
          "output_type": "stream",
          "text": [
            "/opt/conda/lib/python3.6/site-packages/keras/models.py:251: UserWarning: No training configuration found in save file: the model was *not* compiled. Compile it manually.\n",
            "  warnings.warn('No training configuration found in save file: '\n"
          ],
          "name": "stderr"
        }
      ]
    },
    {
      "metadata": {
        "id": "fX72mhSyPZ88",
        "colab_type": "code",
        "colab": {},
        "outputId": "b2201f92-14dc-46e8-c794-3668fa1095a5"
      },
      "cell_type": "code",
      "source": [
        "yolo_model.summary()"
      ],
      "execution_count": 0,
      "outputs": [
        {
          "output_type": "stream",
          "text": [
            "____________________________________________________________________________________________________\n",
            "Layer (type)                     Output Shape          Param #     Connected to                     \n",
            "====================================================================================================\n",
            "input_1 (InputLayer)             (None, 608, 608, 3)   0                                            \n",
            "____________________________________________________________________________________________________\n",
            "conv2d_1 (Conv2D)                (None, 608, 608, 32)  864         input_1[0][0]                    \n",
            "____________________________________________________________________________________________________\n",
            "batch_normalization_1 (BatchNorm (None, 608, 608, 32)  128         conv2d_1[0][0]                   \n",
            "____________________________________________________________________________________________________\n",
            "leaky_re_lu_1 (LeakyReLU)        (None, 608, 608, 32)  0           batch_normalization_1[0][0]      \n",
            "____________________________________________________________________________________________________\n",
            "max_pooling2d_1 (MaxPooling2D)   (None, 304, 304, 32)  0           leaky_re_lu_1[0][0]              \n",
            "____________________________________________________________________________________________________\n",
            "conv2d_2 (Conv2D)                (None, 304, 304, 64)  18432       max_pooling2d_1[0][0]            \n",
            "____________________________________________________________________________________________________\n",
            "batch_normalization_2 (BatchNorm (None, 304, 304, 64)  256         conv2d_2[0][0]                   \n",
            "____________________________________________________________________________________________________\n",
            "leaky_re_lu_2 (LeakyReLU)        (None, 304, 304, 64)  0           batch_normalization_2[0][0]      \n",
            "____________________________________________________________________________________________________\n",
            "max_pooling2d_2 (MaxPooling2D)   (None, 152, 152, 64)  0           leaky_re_lu_2[0][0]              \n",
            "____________________________________________________________________________________________________\n",
            "conv2d_3 (Conv2D)                (None, 152, 152, 128) 73728       max_pooling2d_2[0][0]            \n",
            "____________________________________________________________________________________________________\n",
            "batch_normalization_3 (BatchNorm (None, 152, 152, 128) 512         conv2d_3[0][0]                   \n",
            "____________________________________________________________________________________________________\n",
            "leaky_re_lu_3 (LeakyReLU)        (None, 152, 152, 128) 0           batch_normalization_3[0][0]      \n",
            "____________________________________________________________________________________________________\n",
            "conv2d_4 (Conv2D)                (None, 152, 152, 64)  8192        leaky_re_lu_3[0][0]              \n",
            "____________________________________________________________________________________________________\n",
            "batch_normalization_4 (BatchNorm (None, 152, 152, 64)  256         conv2d_4[0][0]                   \n",
            "____________________________________________________________________________________________________\n",
            "leaky_re_lu_4 (LeakyReLU)        (None, 152, 152, 64)  0           batch_normalization_4[0][0]      \n",
            "____________________________________________________________________________________________________\n",
            "conv2d_5 (Conv2D)                (None, 152, 152, 128) 73728       leaky_re_lu_4[0][0]              \n",
            "____________________________________________________________________________________________________\n",
            "batch_normalization_5 (BatchNorm (None, 152, 152, 128) 512         conv2d_5[0][0]                   \n",
            "____________________________________________________________________________________________________\n",
            "leaky_re_lu_5 (LeakyReLU)        (None, 152, 152, 128) 0           batch_normalization_5[0][0]      \n",
            "____________________________________________________________________________________________________\n",
            "max_pooling2d_3 (MaxPooling2D)   (None, 76, 76, 128)   0           leaky_re_lu_5[0][0]              \n",
            "____________________________________________________________________________________________________\n",
            "conv2d_6 (Conv2D)                (None, 76, 76, 256)   294912      max_pooling2d_3[0][0]            \n",
            "____________________________________________________________________________________________________\n",
            "batch_normalization_6 (BatchNorm (None, 76, 76, 256)   1024        conv2d_6[0][0]                   \n",
            "____________________________________________________________________________________________________\n",
            "leaky_re_lu_6 (LeakyReLU)        (None, 76, 76, 256)   0           batch_normalization_6[0][0]      \n",
            "____________________________________________________________________________________________________\n",
            "conv2d_7 (Conv2D)                (None, 76, 76, 128)   32768       leaky_re_lu_6[0][0]              \n",
            "____________________________________________________________________________________________________\n",
            "batch_normalization_7 (BatchNorm (None, 76, 76, 128)   512         conv2d_7[0][0]                   \n",
            "____________________________________________________________________________________________________\n",
            "leaky_re_lu_7 (LeakyReLU)        (None, 76, 76, 128)   0           batch_normalization_7[0][0]      \n",
            "____________________________________________________________________________________________________\n",
            "conv2d_8 (Conv2D)                (None, 76, 76, 256)   294912      leaky_re_lu_7[0][0]              \n",
            "____________________________________________________________________________________________________\n",
            "batch_normalization_8 (BatchNorm (None, 76, 76, 256)   1024        conv2d_8[0][0]                   \n",
            "____________________________________________________________________________________________________\n",
            "leaky_re_lu_8 (LeakyReLU)        (None, 76, 76, 256)   0           batch_normalization_8[0][0]      \n",
            "____________________________________________________________________________________________________\n",
            "max_pooling2d_4 (MaxPooling2D)   (None, 38, 38, 256)   0           leaky_re_lu_8[0][0]              \n",
            "____________________________________________________________________________________________________\n",
            "conv2d_9 (Conv2D)                (None, 38, 38, 512)   1179648     max_pooling2d_4[0][0]            \n",
            "____________________________________________________________________________________________________\n",
            "batch_normalization_9 (BatchNorm (None, 38, 38, 512)   2048        conv2d_9[0][0]                   \n",
            "____________________________________________________________________________________________________\n",
            "leaky_re_lu_9 (LeakyReLU)        (None, 38, 38, 512)   0           batch_normalization_9[0][0]      \n",
            "____________________________________________________________________________________________________\n",
            "conv2d_10 (Conv2D)               (None, 38, 38, 256)   131072      leaky_re_lu_9[0][0]              \n",
            "____________________________________________________________________________________________________\n",
            "batch_normalization_10 (BatchNor (None, 38, 38, 256)   1024        conv2d_10[0][0]                  \n",
            "____________________________________________________________________________________________________\n",
            "leaky_re_lu_10 (LeakyReLU)       (None, 38, 38, 256)   0           batch_normalization_10[0][0]     \n",
            "____________________________________________________________________________________________________\n",
            "conv2d_11 (Conv2D)               (None, 38, 38, 512)   1179648     leaky_re_lu_10[0][0]             \n",
            "____________________________________________________________________________________________________\n",
            "batch_normalization_11 (BatchNor (None, 38, 38, 512)   2048        conv2d_11[0][0]                  \n",
            "____________________________________________________________________________________________________\n",
            "leaky_re_lu_11 (LeakyReLU)       (None, 38, 38, 512)   0           batch_normalization_11[0][0]     \n",
            "____________________________________________________________________________________________________\n",
            "conv2d_12 (Conv2D)               (None, 38, 38, 256)   131072      leaky_re_lu_11[0][0]             \n",
            "____________________________________________________________________________________________________\n",
            "batch_normalization_12 (BatchNor (None, 38, 38, 256)   1024        conv2d_12[0][0]                  \n",
            "____________________________________________________________________________________________________\n",
            "leaky_re_lu_12 (LeakyReLU)       (None, 38, 38, 256)   0           batch_normalization_12[0][0]     \n",
            "____________________________________________________________________________________________________\n",
            "conv2d_13 (Conv2D)               (None, 38, 38, 512)   1179648     leaky_re_lu_12[0][0]             \n",
            "____________________________________________________________________________________________________\n",
            "batch_normalization_13 (BatchNor (None, 38, 38, 512)   2048        conv2d_13[0][0]                  \n",
            "____________________________________________________________________________________________________\n",
            "leaky_re_lu_13 (LeakyReLU)       (None, 38, 38, 512)   0           batch_normalization_13[0][0]     \n",
            "____________________________________________________________________________________________________\n",
            "max_pooling2d_5 (MaxPooling2D)   (None, 19, 19, 512)   0           leaky_re_lu_13[0][0]             \n",
            "____________________________________________________________________________________________________\n",
            "conv2d_14 (Conv2D)               (None, 19, 19, 1024)  4718592     max_pooling2d_5[0][0]            \n",
            "____________________________________________________________________________________________________\n",
            "batch_normalization_14 (BatchNor (None, 19, 19, 1024)  4096        conv2d_14[0][0]                  \n",
            "____________________________________________________________________________________________________\n",
            "leaky_re_lu_14 (LeakyReLU)       (None, 19, 19, 1024)  0           batch_normalization_14[0][0]     \n",
            "____________________________________________________________________________________________________\n",
            "conv2d_15 (Conv2D)               (None, 19, 19, 512)   524288      leaky_re_lu_14[0][0]             \n",
            "____________________________________________________________________________________________________\n",
            "batch_normalization_15 (BatchNor (None, 19, 19, 512)   2048        conv2d_15[0][0]                  \n",
            "____________________________________________________________________________________________________\n",
            "leaky_re_lu_15 (LeakyReLU)       (None, 19, 19, 512)   0           batch_normalization_15[0][0]     \n",
            "____________________________________________________________________________________________________\n",
            "conv2d_16 (Conv2D)               (None, 19, 19, 1024)  4718592     leaky_re_lu_15[0][0]             \n",
            "____________________________________________________________________________________________________\n",
            "batch_normalization_16 (BatchNor (None, 19, 19, 1024)  4096        conv2d_16[0][0]                  \n",
            "____________________________________________________________________________________________________\n",
            "leaky_re_lu_16 (LeakyReLU)       (None, 19, 19, 1024)  0           batch_normalization_16[0][0]     \n",
            "____________________________________________________________________________________________________\n",
            "conv2d_17 (Conv2D)               (None, 19, 19, 512)   524288      leaky_re_lu_16[0][0]             \n",
            "____________________________________________________________________________________________________\n",
            "batch_normalization_17 (BatchNor (None, 19, 19, 512)   2048        conv2d_17[0][0]                  \n",
            "____________________________________________________________________________________________________\n",
            "leaky_re_lu_17 (LeakyReLU)       (None, 19, 19, 512)   0           batch_normalization_17[0][0]     \n",
            "____________________________________________________________________________________________________\n",
            "conv2d_18 (Conv2D)               (None, 19, 19, 1024)  4718592     leaky_re_lu_17[0][0]             \n",
            "____________________________________________________________________________________________________\n",
            "batch_normalization_18 (BatchNor (None, 19, 19, 1024)  4096        conv2d_18[0][0]                  \n",
            "____________________________________________________________________________________________________\n",
            "leaky_re_lu_18 (LeakyReLU)       (None, 19, 19, 1024)  0           batch_normalization_18[0][0]     \n",
            "____________________________________________________________________________________________________\n",
            "conv2d_19 (Conv2D)               (None, 19, 19, 1024)  9437184     leaky_re_lu_18[0][0]             \n",
            "____________________________________________________________________________________________________\n",
            "batch_normalization_19 (BatchNor (None, 19, 19, 1024)  4096        conv2d_19[0][0]                  \n",
            "____________________________________________________________________________________________________\n",
            "conv2d_21 (Conv2D)               (None, 38, 38, 64)    32768       leaky_re_lu_13[0][0]             \n",
            "____________________________________________________________________________________________________\n",
            "leaky_re_lu_19 (LeakyReLU)       (None, 19, 19, 1024)  0           batch_normalization_19[0][0]     \n",
            "____________________________________________________________________________________________________\n",
            "batch_normalization_21 (BatchNor (None, 38, 38, 64)    256         conv2d_21[0][0]                  \n",
            "____________________________________________________________________________________________________\n",
            "conv2d_20 (Conv2D)               (None, 19, 19, 1024)  9437184     leaky_re_lu_19[0][0]             \n",
            "____________________________________________________________________________________________________\n",
            "leaky_re_lu_21 (LeakyReLU)       (None, 38, 38, 64)    0           batch_normalization_21[0][0]     \n",
            "____________________________________________________________________________________________________\n",
            "batch_normalization_20 (BatchNor (None, 19, 19, 1024)  4096        conv2d_20[0][0]                  \n",
            "____________________________________________________________________________________________________\n",
            "space_to_depth_x2 (Lambda)       (None, 19, 19, 256)   0           leaky_re_lu_21[0][0]             \n",
            "____________________________________________________________________________________________________\n",
            "leaky_re_lu_20 (LeakyReLU)       (None, 19, 19, 1024)  0           batch_normalization_20[0][0]     \n",
            "____________________________________________________________________________________________________\n",
            "concatenate_1 (Concatenate)      (None, 19, 19, 1280)  0           space_to_depth_x2[0][0]          \n",
            "                                                                   leaky_re_lu_20[0][0]             \n",
            "____________________________________________________________________________________________________\n",
            "conv2d_22 (Conv2D)               (None, 19, 19, 1024)  11796480    concatenate_1[0][0]              \n",
            "____________________________________________________________________________________________________\n",
            "batch_normalization_22 (BatchNor (None, 19, 19, 1024)  4096        conv2d_22[0][0]                  \n",
            "____________________________________________________________________________________________________\n",
            "leaky_re_lu_22 (LeakyReLU)       (None, 19, 19, 1024)  0           batch_normalization_22[0][0]     \n",
            "____________________________________________________________________________________________________\n",
            "conv2d_23 (Conv2D)               (None, 19, 19, 425)   435625      leaky_re_lu_22[0][0]             \n",
            "====================================================================================================\n",
            "Total params: 50,983,561\n",
            "Trainable params: 50,962,889\n",
            "Non-trainable params: 20,672\n",
            "____________________________________________________________________________________________________\n"
          ],
          "name": "stdout"
        }
      ]
    },
    {
      "metadata": {
        "id": "6TiEvWGHPZ9D",
        "colab_type": "text"
      },
      "cell_type": "markdown",
      "source": [
        "### 3.3 - Convert output of the model to usable bounding box tensors\n",
        "\n",
        "The output of `yolo_model` is a (m, 19, 19, 5, 85) tensor that needs to pass through non-trivial processing and conversion."
      ]
    },
    {
      "metadata": {
        "id": "ZNkckG9xPZ9E",
        "colab_type": "code",
        "colab": {}
      },
      "cell_type": "code",
      "source": [
        "yolo_outputs = yolo_head(yolo_model.output, anchors, len(class_names))"
      ],
      "execution_count": 0,
      "outputs": []
    },
    {
      "metadata": {
        "id": "a_8vbtHVPZ9I",
        "colab_type": "text"
      },
      "cell_type": "markdown",
      "source": [
        "### 3.4 - Filtering boxes\n",
        "\n",
        " perform filtering and select only the best boxes."
      ]
    },
    {
      "metadata": {
        "id": "d-yesjpXPZ9J",
        "colab_type": "code",
        "colab": {}
      },
      "cell_type": "code",
      "source": [
        "scores, boxes, classes = yolo_eval(yolo_outputs, image_shape)"
      ],
      "execution_count": 0,
      "outputs": []
    },
    {
      "metadata": {
        "id": "aGZyQmSmPZ9M",
        "colab_type": "text"
      },
      "cell_type": "markdown",
      "source": [
        "### 3.5 - Run the graph on an image\n",
        "\n",
        "\n",
        "1. <font color='purple'> yolo_model.input </font> is given to `yolo_model`. The model is used to compute the output <font color='purple'> yolo_model.output </font>\n",
        "2. <font color='purple'> yolo_model.output </font> is processed by `yolo_head`. It gives you <font color='purple'> yolo_outputs </font>\n",
        "3. <font color='purple'> yolo_outputs </font> goes through a filtering function, `yolo_eval`. It outputs your predictions: <font color='purple'> scores, boxes, classes </font>\n",
        "\n",
        "**Exercise**: Implement predict() which runs the graph to test YOLO on an image.\n",
        "You will need to run a TensorFlow session, to have it compute `scores, boxes, classes`.\n",
        "\n",
        "The code below also uses the following function:\n",
        "```python\n",
        "image, image_data = preprocess_image(\"images/\" + image_file, model_image_size = (608, 608))\n",
        "```\n",
        "which outputs:\n",
        "- image: a python (PIL) representation of your image used for drawing boxes. You won't need to use it.\n",
        "- image_data: a numpy-array representing the image. This will be the input to the CNN.\n",
        "\n",
        "**Important note**: when a model uses BatchNorm (as is the case in YOLO), you will need to pass an additional placeholder in the feed_dict {K.learning_phase(): 0}."
      ]
    },
    {
      "metadata": {
        "id": "iExafTKFPZ9O",
        "colab_type": "code",
        "colab": {}
      },
      "cell_type": "code",
      "source": [
        "def predict(sess, image_file):\n",
        "    \"\"\"\n",
        "    Runs the graph stored in \"sess\" to predict boxes for \"image_file\". Prints and plots the preditions.\n",
        "    \n",
        "    Arguments:\n",
        "    sess -- your tensorflow/Keras session containing the YOLO graph\n",
        "    image_file -- name of an image stored in the \"images\" folder.\n",
        "    \n",
        "    Returns:\n",
        "    out_scores -- tensor of shape (None, ), scores of the predicted boxes\n",
        "    out_boxes -- tensor of shape (None, 4), coordinates of the predicted boxes\n",
        "    out_classes -- tensor of shape (None, ), class index of the predicted boxes\n",
        "    \n",
        "    Note: \"None\" actually represents the number of predicted boxes, it varies between 0 and max_boxes. \n",
        "    \"\"\"\n",
        "\n",
        "    # Preprocess your image\n",
        "    image, image_data = preprocess_image(\"images/\" + image_file, model_image_size = (608, 608))\n",
        "\n",
        "    # Run the session with the correct tensors and choose the correct placeholders in the feed_dict.\n",
        "    # You'll need to use feed_dict={yolo_model.input: ... , K.learning_phase(): 0})\n",
        "    out_scores, out_boxes, out_classes = sess.run([scores, boxes, classes], \n",
        "                                                  feed_dict={yolo_model.input: image_data, K.learning_phase(): 0})\n",
        "\n",
        "    # Print predictions info\n",
        "    print('Found {} boxes for {}'.format(len(out_boxes), image_file))\n",
        "    # Generate colors for drawing bounding boxes.\n",
        "    colors = generate_colors(class_names)\n",
        "    # Draw bounding boxes on the image file\n",
        "    draw_boxes(image, out_scores, out_boxes, out_classes, class_names, colors)\n",
        "    # Save the predicted bounding box on the image\n",
        "    image.save(os.path.join(\"out\", image_file), quality=180)\n",
        "    # Display the results in the notebook\n",
        "    output_image = scipy.misc.imread(os.path.join(\"out\", image_file))\n",
        "    imshow(output_image)\n",
        "    \n",
        "\n",
        "    \n",
        "    return out_scores, out_boxes, out_classes"
      ],
      "execution_count": 0,
      "outputs": []
    },
    {
      "metadata": {
        "id": "61WVWj1oPZ9U",
        "colab_type": "text"
      },
      "cell_type": "markdown",
      "source": [
        "This modelis actually able to detect 80 different classes listed in \"coco_classes.txt\". "
      ]
    },
    {
      "metadata": {
        "id": "UJfnLCXsPZ9a",
        "colab_type": "text"
      },
      "cell_type": "markdown",
      "source": [
        "\n",
        "\n",
        "```\n",
        "# This is formatted as code\n",
        "```\n",
        "\n",
        "**References**: TThe pretrained weights used came from the official YOLO website. \n",
        "- Joseph Redmon, Santosh Divvala, Ross Girshick, Ali Farhadi - [You Only Look Once: Unified, Real-Time Object Detection](https://arxiv.org/abs/1506.02640) (2015)\n",
        "- Joseph Redmon, Ali Farhadi - [YOLO9000: Better, Faster, Stronger](https://arxiv.org/abs/1612.08242) (2016)\n",
        "- Allan Zelener - [YAD2K: Yet Another Darknet 2 Keras](https://github.com/allanzelener/YAD2K)\n",
        "- The official YOLO website (https://pjreddie.com/darknet/yolo/) "
      ]
    },
    {
      "metadata": {
        "id": "oPPHq3jjPZ9b",
        "colab_type": "text"
      },
      "cell_type": "markdown",
      "source": [
        "**Car detection dataset**:\n",
        "<a rel=\"license\" href=\"http://creativecommons.org/licenses/by/4.0/\"><img alt=\"Creative Commons License\" style=\"border-width:0\" src=\"https://i.creativecommons.org/l/by/4.0/88x31.png\" /></a><br /><span xmlns:dct=\"http://purl.org/dc/terms/\" property=\"dct:title\">The Drive.ai Sample Dataset</span> (provided by drive.ai) is licensed under a <a rel=\"license\" href=\"http://creativecommons.org/licenses/by/4.0/\">Creative Commons Attribution 4.0 International License</a>. We are especially grateful to Brody Huval, Chih Hu and Rahul Patel for collecting and providing this dataset. "
      ]
    }
  ]
}