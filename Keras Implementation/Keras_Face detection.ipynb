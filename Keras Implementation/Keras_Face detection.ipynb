{
  "nbformat": 4,
  "nbformat_minor": 0,
  "metadata": {
    "colab": {
      "name": "Keras - Tutorial - Happy House v2.ipynb",
      "version": "0.3.2",
      "provenance": []
    },
    "kernelspec": {
      "display_name": "Python 3",
      "language": "python",
      "name": "python3"
    }
  },
  "cells": [
    {
      "metadata": {
        "id": "U-l7Y9EuLJVN",
        "colab_type": "text"
      },
      "cell_type": "markdown",
      "source": [
        "# Keras tutorial - Rapid implementation of CNN\n",
        "\n",
        " Keras was developed to enable deep learning engineers to build and experiment with different models very quickly. Just as TensorFlow is a higher-level framework than Python, Keras is an even higher-level framework and provides additional abstractions. "
      ]
    },
    {
      "metadata": {
        "id": "x8xLZMxNLJVP",
        "colab_type": "code",
        "colab": {
          "base_uri": "https://localhost:8080/",
          "height": 385
        },
        "outputId": "972c03f5-8178-4c48-e566-d923eb186043"
      },
      "cell_type": "code",
      "source": [
        "import numpy as np\n",
        "from keras import layers\n",
        "from keras.layers import Input, Dense, Activation, ZeroPadding2D, BatchNormalization, Flatten, Conv2D\n",
        "from keras.layers import AveragePooling2D, MaxPooling2D, Dropout, GlobalMaxPooling2D, GlobalAveragePooling2D\n",
        "from keras.models import Model\n",
        "from keras.preprocessing import image\n",
        "from keras.utils import layer_utils\n",
        "from keras.utils.data_utils import get_file\n",
        "from keras.applications.imagenet_utils import preprocess_input\n",
        "import pydot\n",
        "from IPython.display import SVG\n",
        "from keras.utils.vis_utils import model_to_dot\n",
        "from keras.utils import plot_model\n",
        "from kt_utils import *\n",
        "\n",
        "import keras.backend as K\n",
        "K.set_image_data_format('channels_last')\n",
        "import matplotlib.pyplot as plt\n",
        "from matplotlib.pyplot import imshow\n",
        "\n",
        "%matplotlib inline"
      ],
      "execution_count": 1,
      "outputs": [
        {
          "output_type": "stream",
          "text": [
            "Using TensorFlow backend.\n"
          ],
          "name": "stderr"
        },
        {
          "output_type": "error",
          "ename": "ModuleNotFoundError",
          "evalue": "ignored",
          "traceback": [
            "\u001b[0;31m---------------------------------------------------------------------------\u001b[0m",
            "\u001b[0;31mModuleNotFoundError\u001b[0m                       Traceback (most recent call last)",
            "\u001b[0;32m<ipython-input-1-9e2edc83f031>\u001b[0m in \u001b[0;36m<module>\u001b[0;34m()\u001b[0m\n\u001b[1;32m     12\u001b[0m \u001b[0;32mfrom\u001b[0m \u001b[0mkeras\u001b[0m\u001b[0;34m.\u001b[0m\u001b[0mutils\u001b[0m\u001b[0;34m.\u001b[0m\u001b[0mvis_utils\u001b[0m \u001b[0;32mimport\u001b[0m \u001b[0mmodel_to_dot\u001b[0m\u001b[0;34m\u001b[0m\u001b[0;34m\u001b[0m\u001b[0m\n\u001b[1;32m     13\u001b[0m \u001b[0;32mfrom\u001b[0m \u001b[0mkeras\u001b[0m\u001b[0;34m.\u001b[0m\u001b[0mutils\u001b[0m \u001b[0;32mimport\u001b[0m \u001b[0mplot_model\u001b[0m\u001b[0;34m\u001b[0m\u001b[0;34m\u001b[0m\u001b[0m\n\u001b[0;32m---> 14\u001b[0;31m \u001b[0;32mfrom\u001b[0m \u001b[0mkt_utils\u001b[0m \u001b[0;32mimport\u001b[0m \u001b[0;34m*\u001b[0m\u001b[0;34m\u001b[0m\u001b[0;34m\u001b[0m\u001b[0m\n\u001b[0m\u001b[1;32m     15\u001b[0m \u001b[0;34m\u001b[0m\u001b[0m\n\u001b[1;32m     16\u001b[0m \u001b[0;32mimport\u001b[0m \u001b[0mkeras\u001b[0m\u001b[0;34m.\u001b[0m\u001b[0mbackend\u001b[0m \u001b[0;32mas\u001b[0m \u001b[0mK\u001b[0m\u001b[0;34m\u001b[0m\u001b[0;34m\u001b[0m\u001b[0m\n",
            "\u001b[0;31mModuleNotFoundError\u001b[0m: No module named 'kt_utils'",
            "",
            "\u001b[0;31m---------------------------------------------------------------------------\u001b[0;32m\nNOTE: If your import is failing due to a missing package, you can\nmanually install dependencies using either !pip or !apt.\n\nTo view examples of installing some common dependencies, click the\n\"Open Examples\" button below.\n\u001b[0;31m---------------------------------------------------------------------------\u001b[0m\n"
          ]
        }
      ]
    },
    {
      "metadata": {
        "id": "ySX08-jvLJVX",
        "colab_type": "text"
      },
      "cell_type": "markdown",
      "source": [
        "**Note**: As you can see, we've imported a lot of functions from Keras. You can use them easily just by calling them directly in the notebook. Ex: `X = Input(...)` or `X = ZeroPadding2D(...)`."
      ]
    },
    {
      "metadata": {
        "id": "TJ0UqUg8LJVZ",
        "colab_type": "text"
      },
      "cell_type": "markdown",
      "source": [
        "## 1 - Model specification\n",
        "\n",
        "Happiness  detection of faces.\n",
        "\n",
        "<img src=\"images/happy-house.jpg\" style=\"width:350px;height:270px;\">\n",
        "<caption><center> <u> <font color='purple'> **Figure 1** </u><font color='purple'>  : **the Happy House**</center></caption>\n",
        "\n",
        "\n",
        "We run the following code to normalize the dataset and learn about its shapes."
      ]
    },
    {
      "metadata": {
        "id": "vXT9DVCCLJVd",
        "colab_type": "code",
        "colab": {},
        "outputId": "52186e75-240e-4328-9100-4c3d475833dc"
      },
      "cell_type": "code",
      "source": [
        "X_train_orig, Y_train_orig, X_test_orig, Y_test_orig, classes = load_dataset()\n",
        "\n",
        "# Normalize image vectors\n",
        "X_train = X_train_orig/255.\n",
        "X_test = X_test_orig/255.\n",
        "\n",
        "# Reshape\n",
        "Y_train = Y_train_orig.T\n",
        "Y_test = Y_test_orig.T\n",
        "\n",
        "print (\"number of training examples = \" + str(X_train.shape[0]))\n",
        "print (\"number of test examples = \" + str(X_test.shape[0]))\n",
        "print (\"X_train shape: \" + str(X_train.shape))\n",
        "print (\"Y_train shape: \" + str(Y_train.shape))\n",
        "print (\"X_test shape: \" + str(X_test.shape))\n",
        "print (\"Y_test shape: \" + str(Y_test.shape))"
      ],
      "execution_count": 0,
      "outputs": [
        {
          "output_type": "stream",
          "text": [
            "number of training examples = 600\n",
            "number of test examples = 150\n",
            "X_train shape: (600, 64, 64, 3)\n",
            "Y_train shape: (600, 1)\n",
            "X_test shape: (150, 64, 64, 3)\n",
            "Y_test shape: (150, 1)\n"
          ],
          "name": "stdout"
        }
      ]
    },
    {
      "metadata": {
        "id": "oKNRr6bKLJVi",
        "colab_type": "text"
      },
      "cell_type": "markdown",
      "source": [
        "**Details of the \"Happy\" dataset**:\n",
        "- Images are of shape (64,64,3)\n",
        "- Training: 600 pictures\n",
        "- Test: 150 pictures\n",
        "\n",
        "It is now time to solve the \"Happy\" Challenge."
      ]
    },
    {
      "metadata": {
        "id": "uY1mBCRLLJVj",
        "colab_type": "text"
      },
      "cell_type": "markdown",
      "source": [
        "## 2 -Keras model outline\n",
        "\n",
        "\n",
        "```python\n",
        "def model(input_shape):\n",
        "    # Define the input placeholder as a tensor with shape input_shape. Think of this as your input image!\n",
        "    X_input = Input(input_shape)\n",
        "\n",
        "    # Zero-Padding: pads the border of X_input with zeroes\n",
        "    X = ZeroPadding2D((3, 3))(X_input)\n",
        "\n",
        "    # CONV -> BN -> RELU Block applied to X\n",
        "    X = Conv2D(32, (7, 7), strides = (1, 1), name = 'conv0')(X)\n",
        "    X = BatchNormalization(axis = 3, name = 'bn0')(X)\n",
        "    X = Activation('relu')(X)\n",
        "\n",
        "    # MAXPOOL\n",
        "    X = MaxPooling2D((2, 2), name='max_pool')(X)\n",
        "\n",
        "    # FLATTEN X (means convert it to a vector) + FULLYCONNECTED\n",
        "    X = Flatten()(X)\n",
        "    X = Dense(1, activation='sigmoid', name='fc')(X)\n",
        "\n",
        "    # Create model. This creates your Keras model instance, you'll use this instance to train/test the model.\n",
        "    model = Model(inputs = X_input, outputs = X, name='HappyModel')\n",
        "    \n",
        "    return model\n",
        "```"
      ]
    },
    {
      "metadata": {
        "id": "8g0CLV1OLJVk",
        "colab_type": "code",
        "colab": {}
      },
      "cell_type": "code",
      "source": [
        "\n",
        "def HappyModel(input_shape):\n",
        "    \"\"\"\n",
        "    Implementation of the HappyModel.\n",
        "    \n",
        "    Arguments:\n",
        "    input_shape -- shape of the images of the dataset\n",
        "\n",
        "    Returns:\n",
        "    model -- a Model() instance in Keras\n",
        "    \"\"\"\n",
        "    \n",
        "    \n",
        "    # Define the input placeholder as a tensor with shape input_shape. Think of this as your input image!\n",
        "    X_input = Input(input_shape)\n",
        "\n",
        "    # Zero-Padding: pads the border of X_input with zeroes\n",
        "    X = ZeroPadding2D((3, 3))(X_input)\n",
        "    \n",
        "    # Block 1\n",
        "    # CONV -> BN -> RELU Block applied to X\n",
        "    X = Conv2D(32, (7, 7), strides = (1, 1), name = 'conv0')(X)\n",
        "    X = BatchNormalization(axis = 3, name = 'bn0')(X)\n",
        "    X = Activation('relu')(X)\n",
        "\n",
        "    # MAXPOOL\n",
        "    X = MaxPooling2D((2, 2))(X)\n",
        "    \n",
        "    # Block 2\n",
        "    X = Conv2D(32, (3, 3), strides = (1, 1),name = 'conv1', padding=\"same\")(X)\n",
        "    X = Activation('relu')(X)\n",
        "    \n",
        "    # MAXPOOL\n",
        "    X = MaxPooling2D((2, 2),name=\"max_pool0\")(X)\n",
        "    \n",
        "    # Block 3\n",
        "    X = Conv2D(32, (3, 3), strides = (1, 1),name = 'conv2', padding=\"same\")(X)\n",
        "    X = Activation('relu')(X)\n",
        "    # MAXPOOL\n",
        "    X = MaxPooling2D((2, 2), name='max_pool1')(X)\n",
        "    X = Dropout(rate=0.25,noise_shape=None, seed=None)(X)\n",
        "    # Block 4\n",
        "    X = Conv2D(64, (3, 3), strides = (1, 1),name = 'conv3', padding=\"same\")(X)\n",
        "    X = Activation('relu')(X)\n",
        "    \n",
        "    #Maxpool\n",
        "    X = MaxPooling2D((2, 2), name='max_pool2')(X)\n",
        "    \n",
        "    # Block 5\n",
        "    X = Conv2D(128, (3, 3), strides = (1, 1),name = 'conv4', padding=\"same\")(X)\n",
        "    X = Activation('relu')(X)\n",
        "    \n",
        "    # MAXPOOL\n",
        "    X = MaxPooling2D((2, 2), name='max_pool3')(X)\n",
        "    \n",
        "    \n",
        "    # FLATTEN X (means convert it to a vector) + FULLYCONNECTED\n",
        "    X = Flatten()(X)\n",
        "    X = Dense(1, activation='sigmoid', name='fc')(X)\n",
        "\n",
        "    # Create model. This creates your Keras model instance, you'll use this instance to train/test the model.\n",
        "    model = Model(inputs = X_input, outputs = X, name='HappyModel')\n",
        "\n",
        "        \n",
        "    return model"
      ],
      "execution_count": 0,
      "outputs": []
    },
    {
      "metadata": {
        "id": "xgbJVn_qLJVn",
        "colab_type": "code",
        "colab": {}
      },
      "cell_type": "code",
      "source": [
        "\n",
        "def HappyModel2(input_shape):\n",
        "    \"\"\"\n",
        "    Implementation of the HappyModel.\n",
        "    \n",
        "    Arguments:\n",
        "    input_shape -- shape of the images of the dataset\n",
        "\n",
        "    Returns:\n",
        "    model -- a Model() instance in Keras\n",
        "    \"\"\"\n",
        "    \n",
        "    # Define the input placeholder as a tensor with shape input_shape. Think of this as your input image!\n",
        "    X_input = Input(input_shape)\n",
        "\n",
        "    # Zero-Padding: pads the border of X_input with zeroes\n",
        "    X = ZeroPadding2D((3, 3))(X_input)\n",
        "    \n",
        "    # Block 1\n",
        "    # CONV -> BN -> RELU Block applied to X\n",
        "    X = Conv2D(32, (7, 7), strides = (1, 1), name = 'conv0')(X)\n",
        "    X = BatchNormalization(axis = 3, name = 'bn0')(X)\n",
        "    X = Activation('relu')(X)\n",
        "\n",
        "    # MAXPOOL\n",
        "    X = MaxPooling2D(pool_size=(2, 2))(X)\n",
        "    \n",
        "    # Block 2\n",
        "    X = Conv2D(32, (3, 3), strides = (1, 1),name = 'conv1', padding=\"same\")(X)\n",
        "    X = Activation('relu')(X)\n",
        "    \n",
        "    # MAXPOOL\n",
        "    X = MaxPooling2D(pool_size=(2, 2),name=\"max_pool0\")(X)\n",
        "    \n",
        "    # Block 3\n",
        "    X = Conv2D(32, (3, 3), strides = (1, 1),name = 'conv2', padding=\"same\")(X)\n",
        "    X = Activation('relu')(X)\n",
        "    # MAXPOOL\n",
        "    X = MaxPooling2D(pool_size=(2, 2), name='max_pool1')(X)\n",
        "    X = Dropout(rate=0.25)(X)\n",
        "    # Block 4\n",
        "    X = Conv2D(64, (3, 3), strides = (1, 1),name = 'conv3', padding=\"same\")(X)\n",
        "    X = Activation('relu')(X)\n",
        "    \n",
        "    #Maxpool\n",
        "    X = MaxPooling2D(pool_size=(2, 2), name='max_pool2')(X)\n",
        "    \n",
        "    # Block 5\n",
        "    X = Conv2D(128, (3, 3), strides = (1, 1),name = 'conv4', padding=\"same\")(X)\n",
        "    X = Activation('relu')(X)\n",
        "    \n",
        "    # MAXPOOL\n",
        "    X = MaxPooling2D((2, 2), name='max_pool3')(X)\n",
        "    \n",
        "    \n",
        "    # FLATTEN X (means convert it to a vector) + FULLYCONNECTED\n",
        "    X = Flatten()(X)\n",
        "    X = Dense(64,activation=\"softmax\")(X)\n",
        "    \n",
        "\n",
        "    # Create model. This creates your Keras model instance, you'll use this instance to train/test the model.\n",
        "    model = Model(inputs = X_input, outputs = X, name='HappyModel2')\n",
        "\n",
        "        \n",
        "    return model"
      ],
      "execution_count": 0,
      "outputs": []
    },
    {
      "metadata": {
        "id": "5czP6HigLJVr",
        "colab_type": "code",
        "colab": {}
      },
      "cell_type": "code",
      "source": [
        "happyModel = HappyModel2(X_train.shape[1:])\n"
      ],
      "execution_count": 0,
      "outputs": []
    },
    {
      "metadata": {
        "id": "RCkxUTbyLJVv",
        "colab_type": "code",
        "colab": {}
      },
      "cell_type": "code",
      "source": [
        "#from keras import optimizers\n",
        "\n",
        "happyModel.compile(optimizer = \"adam\", loss = \"mean_squared_error\", metrics = [\"accuracy\"])\n"
      ],
      "execution_count": 0,
      "outputs": []
    },
    {
      "metadata": {
        "id": "C5GGr5NULJV3",
        "colab_type": "code",
        "colab": {},
        "outputId": "5d5e4c9c-7eaf-4ef6-853b-504b2fa46be7"
      },
      "cell_type": "code",
      "source": [
        "happyModel.fit(x =X_train, y = Y_train, epochs = 10, batch_size = 16)\n"
      ],
      "execution_count": 0,
      "outputs": [
        {
          "output_type": "error",
          "ename": "ValueError",
          "evalue": "Error when checking target: expected activation_21 to have shape (None, 6) but got array with shape (600, 1)",
          "traceback": [
            "\u001b[0;31m---------------------------------------------------------------------------\u001b[0m",
            "\u001b[0;31mValueError\u001b[0m                                Traceback (most recent call last)",
            "\u001b[0;32m<ipython-input-28-bf97a9c12117>\u001b[0m in \u001b[0;36m<module>\u001b[0;34m()\u001b[0m\n\u001b[1;32m      1\u001b[0m \u001b[0;31m### START CODE HERE ### (1 line)\u001b[0m\u001b[0;34m\u001b[0m\u001b[0;34m\u001b[0m\u001b[0m\n\u001b[0;32m----> 2\u001b[0;31m \u001b[0mhappyModel\u001b[0m\u001b[0;34m.\u001b[0m\u001b[0mfit\u001b[0m\u001b[0;34m(\u001b[0m\u001b[0mx\u001b[0m \u001b[0;34m=\u001b[0m\u001b[0mX_train\u001b[0m\u001b[0;34m,\u001b[0m \u001b[0my\u001b[0m \u001b[0;34m=\u001b[0m \u001b[0mY_train\u001b[0m\u001b[0;34m,\u001b[0m \u001b[0mepochs\u001b[0m \u001b[0;34m=\u001b[0m \u001b[0;36m10\u001b[0m\u001b[0;34m,\u001b[0m \u001b[0mbatch_size\u001b[0m \u001b[0;34m=\u001b[0m \u001b[0;36m16\u001b[0m\u001b[0;34m)\u001b[0m\u001b[0;34m\u001b[0m\u001b[0m\n\u001b[0m\u001b[1;32m      3\u001b[0m \u001b[0;31m### END CODE HERE ###\u001b[0m\u001b[0;34m\u001b[0m\u001b[0;34m\u001b[0m\u001b[0m\n",
            "\u001b[0;32m/opt/conda/lib/python3.6/site-packages/keras/engine/training.py\u001b[0m in \u001b[0;36mfit\u001b[0;34m(self, x, y, batch_size, epochs, verbose, callbacks, validation_split, validation_data, shuffle, class_weight, sample_weight, initial_epoch, steps_per_epoch, validation_steps, **kwargs)\u001b[0m\n\u001b[1;32m   1519\u001b[0m             \u001b[0mclass_weight\u001b[0m\u001b[0;34m=\u001b[0m\u001b[0mclass_weight\u001b[0m\u001b[0;34m,\u001b[0m\u001b[0;34m\u001b[0m\u001b[0m\n\u001b[1;32m   1520\u001b[0m             \u001b[0mcheck_batch_axis\u001b[0m\u001b[0;34m=\u001b[0m\u001b[0;32mFalse\u001b[0m\u001b[0;34m,\u001b[0m\u001b[0;34m\u001b[0m\u001b[0m\n\u001b[0;32m-> 1521\u001b[0;31m             batch_size=batch_size)\n\u001b[0m\u001b[1;32m   1522\u001b[0m         \u001b[0;31m# Prepare validation data.\u001b[0m\u001b[0;34m\u001b[0m\u001b[0;34m\u001b[0m\u001b[0m\n\u001b[1;32m   1523\u001b[0m         \u001b[0;32mif\u001b[0m \u001b[0mvalidation_data\u001b[0m\u001b[0;34m:\u001b[0m\u001b[0;34m\u001b[0m\u001b[0m\n",
            "\u001b[0;32m/opt/conda/lib/python3.6/site-packages/keras/engine/training.py\u001b[0m in \u001b[0;36m_standardize_user_data\u001b[0;34m(self, x, y, sample_weight, class_weight, check_batch_axis, batch_size)\u001b[0m\n\u001b[1;32m   1379\u001b[0m                                     \u001b[0moutput_shapes\u001b[0m\u001b[0;34m,\u001b[0m\u001b[0;34m\u001b[0m\u001b[0m\n\u001b[1;32m   1380\u001b[0m                                     \u001b[0mcheck_batch_axis\u001b[0m\u001b[0;34m=\u001b[0m\u001b[0;32mFalse\u001b[0m\u001b[0;34m,\u001b[0m\u001b[0;34m\u001b[0m\u001b[0m\n\u001b[0;32m-> 1381\u001b[0;31m                                     exception_prefix='target')\n\u001b[0m\u001b[1;32m   1382\u001b[0m         sample_weights = _standardize_sample_weights(sample_weight,\n\u001b[1;32m   1383\u001b[0m                                                      self._feed_output_names)\n",
            "\u001b[0;32m/opt/conda/lib/python3.6/site-packages/keras/engine/training.py\u001b[0m in \u001b[0;36m_standardize_input_data\u001b[0;34m(data, names, shapes, check_batch_axis, exception_prefix)\u001b[0m\n\u001b[1;32m    142\u001b[0m                             \u001b[0;34m' to have shape '\u001b[0m \u001b[0;34m+\u001b[0m \u001b[0mstr\u001b[0m\u001b[0;34m(\u001b[0m\u001b[0mshapes\u001b[0m\u001b[0;34m[\u001b[0m\u001b[0mi\u001b[0m\u001b[0;34m]\u001b[0m\u001b[0;34m)\u001b[0m \u001b[0;34m+\u001b[0m\u001b[0;34m\u001b[0m\u001b[0m\n\u001b[1;32m    143\u001b[0m                             \u001b[0;34m' but got array with shape '\u001b[0m \u001b[0;34m+\u001b[0m\u001b[0;34m\u001b[0m\u001b[0m\n\u001b[0;32m--> 144\u001b[0;31m                             str(array.shape))\n\u001b[0m\u001b[1;32m    145\u001b[0m     \u001b[0;32mreturn\u001b[0m \u001b[0marrays\u001b[0m\u001b[0;34m\u001b[0m\u001b[0m\n\u001b[1;32m    146\u001b[0m \u001b[0;34m\u001b[0m\u001b[0m\n",
            "\u001b[0;31mValueError\u001b[0m: Error when checking target: expected activation_21 to have shape (None, 6) but got array with shape (600, 1)"
          ]
        }
      ]
    },
    {
      "metadata": {
        "scrolled": true,
        "id": "LSik6tZILJV6",
        "colab_type": "code",
        "colab": {},
        "outputId": "68fabb1e-9d0d-4900-c3c4-41ff6a30e22d"
      },
      "cell_type": "code",
      "source": [
        "preds=happyModel.evaluate(x = X_test, y = Y_test)### END CODE HERE ###\n",
        "print()\n",
        "print (\"Loss = \" + str(preds[0]))\n",
        "print (\"Test Accuracy = \" + str(preds[1]))"
      ],
      "execution_count": 0,
      "outputs": [
        {
          "output_type": "stream",
          "text": [
            "150/150 [==============================] - 2s     \n",
            "\n",
            "Loss = 0.0293685815856\n",
            "Test Accuracy = 0.960000003974\n"
          ],
          "name": "stdout"
        }
      ]
    },
    {
      "metadata": {
        "id": "Sg8QsPtyLJWJ",
        "colab_type": "text"
      },
      "cell_type": "markdown",
      "source": [
        "## 5 - Other useful functions in Keras \n",
        "\n",
        "---\n",
        "\n",
        "\n",
        "\n",
        "Two other basic features of Keras :\n",
        "- `model.summary()`: prints the details of thela yers in a table with the sizes of its inputs/outputs\n",
        "- `plot_model()`: plots the graph in a nice layout. \n",
        "\n"
      ]
    },
    {
      "metadata": {
        "scrolled": false,
        "id": "1RJKqtl1LJWK",
        "colab_type": "code",
        "colab": {},
        "outputId": "3a01030d-63a5-4ae2-f60c-1af629f09aaf"
      },
      "cell_type": "code",
      "source": [
        "happyModel.summary()"
      ],
      "execution_count": 0,
      "outputs": [
        {
          "output_type": "stream",
          "text": [
            "_________________________________________________________________\n",
            "Layer (type)                 Output Shape              Param #   \n",
            "=================================================================\n",
            "input_1 (InputLayer)         (None, 64, 64, 3)         0         \n",
            "_________________________________________________________________\n",
            "zero_padding2d_1 (ZeroPaddin (None, 70, 70, 3)         0         \n",
            "_________________________________________________________________\n",
            "conv0 (Conv2D)               (None, 64, 64, 32)        4736      \n",
            "_________________________________________________________________\n",
            "bn0 (BatchNormalization)     (None, 64, 64, 32)        128       \n",
            "_________________________________________________________________\n",
            "activation_1 (Activation)    (None, 64, 64, 32)        0         \n",
            "_________________________________________________________________\n",
            "max_pooling2d_1 (MaxPooling2 (None, 32, 32, 32)        0         \n",
            "_________________________________________________________________\n",
            "conv1 (Conv2D)               (None, 32, 32, 32)        9248      \n",
            "_________________________________________________________________\n",
            "activation_2 (Activation)    (None, 32, 32, 32)        0         \n",
            "_________________________________________________________________\n",
            "max_pool0 (MaxPooling2D)     (None, 16, 16, 32)        0         \n",
            "_________________________________________________________________\n",
            "conv2 (Conv2D)               (None, 16, 16, 32)        9248      \n",
            "_________________________________________________________________\n",
            "activation_3 (Activation)    (None, 16, 16, 32)        0         \n",
            "_________________________________________________________________\n",
            "max_pool1 (MaxPooling2D)     (None, 8, 8, 32)          0         \n",
            "_________________________________________________________________\n",
            "dropout_1 (Dropout)          (None, 8, 8, 32)          0         \n",
            "_________________________________________________________________\n",
            "conv3 (Conv2D)               (None, 8, 8, 64)          18496     \n",
            "_________________________________________________________________\n",
            "activation_4 (Activation)    (None, 8, 8, 64)          0         \n",
            "_________________________________________________________________\n",
            "max_pool2 (MaxPooling2D)     (None, 4, 4, 64)          0         \n",
            "_________________________________________________________________\n",
            "conv4 (Conv2D)               (None, 4, 4, 128)         73856     \n",
            "_________________________________________________________________\n",
            "activation_5 (Activation)    (None, 4, 4, 128)         0         \n",
            "_________________________________________________________________\n",
            "max_pool3 (MaxPooling2D)     (None, 2, 2, 128)         0         \n",
            "_________________________________________________________________\n",
            "flatten_1 (Flatten)          (None, 512)               0         \n",
            "_________________________________________________________________\n",
            "fc (Dense)                   (None, 1)                 513       \n",
            "=================================================================\n",
            "Total params: 116,225\n",
            "Trainable params: 116,161\n",
            "Non-trainable params: 64\n",
            "_________________________________________________________________\n"
          ],
          "name": "stdout"
        }
      ]
    },
    {
      "metadata": {
        "id": "c1uU3LX9LJWP",
        "colab_type": "code",
        "colab": {},
        "outputId": "80eee754-58a9-49aa-e9d0-0de5fa56669b"
      },
      "cell_type": "code",
      "source": [
        "plot_model(happyModel, to_file='HappyModel.png')\n",
        "SVG(model_to_dot(happyModel).create(prog='dot', format='svg'))"
      ],
      "execution_count": 0,
      "outputs": [
        {
          "output_type": "execute_result",
          "data": {
            "image/svg+xml": "<svg height=\"1286pt\" viewBox=\"0.00 0.00 274.00 1286.00\" width=\"274pt\" xmlns=\"http://www.w3.org/2000/svg\" xmlns:xlink=\"http://www.w3.org/1999/xlink\">\n<g class=\"graph\" id=\"graph0\" transform=\"scale(1 1) rotate(0) translate(4 1282)\">\n<title>G</title>\n<polygon fill=\"white\" points=\"-4,4 -4,-1282 270,-1282 270,4 -4,4\" stroke=\"none\"/>\n<!-- 139830224464808 -->\n<g class=\"node\" id=\"node1\"><title>139830224464808</title>\n<polygon fill=\"none\" points=\"70,-1241.5 70,-1277.5 196,-1277.5 196,-1241.5 70,-1241.5\" stroke=\"black\"/>\n<text font-family=\"Times,serif\" font-size=\"14.00\" text-anchor=\"middle\" x=\"133\" y=\"-1255.8\">input_9: InputLayer</text>\n</g>\n<!-- 139830224464136 -->\n<g class=\"node\" id=\"node2\"><title>139830224464136</title>\n<polygon fill=\"none\" points=\"24.5,-1168.5 24.5,-1204.5 241.5,-1204.5 241.5,-1168.5 24.5,-1168.5\" stroke=\"black\"/>\n<text font-family=\"Times,serif\" font-size=\"14.00\" text-anchor=\"middle\" x=\"133\" y=\"-1182.8\">zero_padding2d_9: ZeroPadding2D</text>\n</g>\n<!-- 139830224464808&#45;&gt;139830224464136 -->\n<g class=\"edge\" id=\"edge1\"><title>139830224464808-&gt;139830224464136</title>\n<path d=\"M133,-1241.31C133,-1233.29 133,-1223.55 133,-1214.57\" fill=\"none\" stroke=\"black\"/>\n<polygon fill=\"black\" points=\"136.5,-1214.53 133,-1204.53 129.5,-1214.53 136.5,-1214.53\" stroke=\"black\"/>\n</g>\n<!-- 139830224464528 -->\n<g class=\"node\" id=\"node3\"><title>139830224464528</title>\n<polygon fill=\"none\" points=\"80.5,-1095.5 80.5,-1131.5 185.5,-1131.5 185.5,-1095.5 80.5,-1095.5\" stroke=\"black\"/>\n<text font-family=\"Times,serif\" font-size=\"14.00\" text-anchor=\"middle\" x=\"133\" y=\"-1109.8\">conv0: Conv2D</text>\n</g>\n<!-- 139830224464136&#45;&gt;139830224464528 -->\n<g class=\"edge\" id=\"edge2\"><title>139830224464136-&gt;139830224464528</title>\n<path d=\"M133,-1168.31C133,-1160.29 133,-1150.55 133,-1141.57\" fill=\"none\" stroke=\"black\"/>\n<polygon fill=\"black\" points=\"136.5,-1141.53 133,-1131.53 129.5,-1141.53 136.5,-1141.53\" stroke=\"black\"/>\n</g>\n<!-- 139830224249296 -->\n<g class=\"node\" id=\"node4\"><title>139830224249296</title>\n<polygon fill=\"none\" points=\"56,-1022.5 56,-1058.5 210,-1058.5 210,-1022.5 56,-1022.5\" stroke=\"black\"/>\n<text font-family=\"Times,serif\" font-size=\"14.00\" text-anchor=\"middle\" x=\"133\" y=\"-1036.8\">bn0: BatchNormalization</text>\n</g>\n<!-- 139830224464528&#45;&gt;139830224249296 -->\n<g class=\"edge\" id=\"edge3\"><title>139830224464528-&gt;139830224249296</title>\n<path d=\"M133,-1095.31C133,-1087.29 133,-1077.55 133,-1068.57\" fill=\"none\" stroke=\"black\"/>\n<polygon fill=\"black\" points=\"136.5,-1068.53 133,-1058.53 129.5,-1068.53 136.5,-1068.53\" stroke=\"black\"/>\n</g>\n<!-- 139830224276392 -->\n<g class=\"node\" id=\"node5\"><title>139830224276392</title>\n<polygon fill=\"none\" points=\"56,-949.5 56,-985.5 210,-985.5 210,-949.5 56,-949.5\" stroke=\"black\"/>\n<text font-family=\"Times,serif\" font-size=\"14.00\" text-anchor=\"middle\" x=\"133\" y=\"-963.8\">activation_18: Activation</text>\n</g>\n<!-- 139830224249296&#45;&gt;139830224276392 -->\n<g class=\"edge\" id=\"edge4\"><title>139830224249296-&gt;139830224276392</title>\n<path d=\"M133,-1022.31C133,-1014.29 133,-1004.55 133,-995.569\" fill=\"none\" stroke=\"black\"/>\n<polygon fill=\"black\" points=\"136.5,-995.529 133,-985.529 129.5,-995.529 136.5,-995.529\" stroke=\"black\"/>\n</g>\n<!-- 139830224926032 -->\n<g class=\"node\" id=\"node6\"><title>139830224926032</title>\n<polygon fill=\"none\" points=\"28.5,-876.5 28.5,-912.5 237.5,-912.5 237.5,-876.5 28.5,-876.5\" stroke=\"black\"/>\n<text font-family=\"Times,serif\" font-size=\"14.00\" text-anchor=\"middle\" x=\"133\" y=\"-890.8\">max_pooling2d_3: MaxPooling2D</text>\n</g>\n<!-- 139830224276392&#45;&gt;139830224926032 -->\n<g class=\"edge\" id=\"edge5\"><title>139830224276392-&gt;139830224926032</title>\n<path d=\"M133,-949.313C133,-941.289 133,-931.547 133,-922.569\" fill=\"none\" stroke=\"black\"/>\n<polygon fill=\"black\" points=\"136.5,-922.529 133,-912.529 129.5,-922.529 136.5,-922.529\" stroke=\"black\"/>\n</g>\n<!-- 139830225164776 -->\n<g class=\"node\" id=\"node7\"><title>139830225164776</title>\n<polygon fill=\"none\" points=\"66,-803.5 66,-839.5 200,-839.5 200,-803.5 66,-803.5\" stroke=\"black\"/>\n<text font-family=\"Times,serif\" font-size=\"14.00\" text-anchor=\"middle\" x=\"133\" y=\"-817.8\">conv2d_10: Conv2D</text>\n</g>\n<!-- 139830224926032&#45;&gt;139830225164776 -->\n<g class=\"edge\" id=\"edge6\"><title>139830224926032-&gt;139830225164776</title>\n<path d=\"M133,-876.313C133,-868.289 133,-858.547 133,-849.569\" fill=\"none\" stroke=\"black\"/>\n<polygon fill=\"black\" points=\"136.5,-849.529 133,-839.529 129.5,-849.529 136.5,-849.529\" stroke=\"black\"/>\n</g>\n<!-- 139830224562888 -->\n<g class=\"node\" id=\"node8\"><title>139830224562888</title>\n<polygon fill=\"none\" points=\"0,-730.5 0,-766.5 266,-766.5 266,-730.5 0,-730.5\" stroke=\"black\"/>\n<text font-family=\"Times,serif\" font-size=\"14.00\" text-anchor=\"middle\" x=\"133\" y=\"-744.8\">batch_normalization_10: BatchNormalization</text>\n</g>\n<!-- 139830225164776&#45;&gt;139830224562888 -->\n<g class=\"edge\" id=\"edge7\"><title>139830225164776-&gt;139830224562888</title>\n<path d=\"M133,-803.313C133,-795.289 133,-785.547 133,-776.569\" fill=\"none\" stroke=\"black\"/>\n<polygon fill=\"black\" points=\"136.5,-776.529 133,-766.529 129.5,-776.529 136.5,-776.529\" stroke=\"black\"/>\n</g>\n<!-- 139830225211288 -->\n<g class=\"node\" id=\"node9\"><title>139830225211288</title>\n<polygon fill=\"none\" points=\"56,-657.5 56,-693.5 210,-693.5 210,-657.5 56,-657.5\" stroke=\"black\"/>\n<text font-family=\"Times,serif\" font-size=\"14.00\" text-anchor=\"middle\" x=\"133\" y=\"-671.8\">activation_19: Activation</text>\n</g>\n<!-- 139830224562888&#45;&gt;139830225211288 -->\n<g class=\"edge\" id=\"edge8\"><title>139830224562888-&gt;139830225211288</title>\n<path d=\"M133,-730.313C133,-722.289 133,-712.547 133,-703.569\" fill=\"none\" stroke=\"black\"/>\n<polygon fill=\"black\" points=\"136.5,-703.529 133,-693.529 129.5,-703.529 136.5,-703.529\" stroke=\"black\"/>\n</g>\n<!-- 139830224481080 -->\n<g class=\"node\" id=\"node10\"><title>139830224481080</title>\n<polygon fill=\"none\" points=\"66.5,-584.5 66.5,-620.5 199.5,-620.5 199.5,-584.5 66.5,-584.5\" stroke=\"black\"/>\n<text font-family=\"Times,serif\" font-size=\"14.00\" text-anchor=\"middle\" x=\"133\" y=\"-598.8\">conv2d_11: Conv2D</text>\n</g>\n<!-- 139830225211288&#45;&gt;139830224481080 -->\n<g class=\"edge\" id=\"edge9\"><title>139830225211288-&gt;139830224481080</title>\n<path d=\"M133,-657.313C133,-649.289 133,-639.547 133,-630.569\" fill=\"none\" stroke=\"black\"/>\n<polygon fill=\"black\" points=\"136.5,-630.529 133,-620.529 129.5,-630.529 136.5,-630.529\" stroke=\"black\"/>\n</g>\n<!-- 139830224448704 -->\n<g class=\"node\" id=\"node11\"><title>139830224448704</title>\n<polygon fill=\"none\" points=\"0,-511.5 0,-547.5 266,-547.5 266,-511.5 0,-511.5\" stroke=\"black\"/>\n<text font-family=\"Times,serif\" font-size=\"14.00\" text-anchor=\"middle\" x=\"133\" y=\"-525.8\">batch_normalization_11: BatchNormalization</text>\n</g>\n<!-- 139830224481080&#45;&gt;139830224448704 -->\n<g class=\"edge\" id=\"edge10\"><title>139830224481080-&gt;139830224448704</title>\n<path d=\"M133,-584.313C133,-576.289 133,-566.547 133,-557.569\" fill=\"none\" stroke=\"black\"/>\n<polygon fill=\"black\" points=\"136.5,-557.529 133,-547.529 129.5,-557.529 136.5,-557.529\" stroke=\"black\"/>\n</g>\n<!-- 139830223350976 -->\n<g class=\"node\" id=\"node12\"><title>139830223350976</title>\n<polygon fill=\"none\" points=\"56,-438.5 56,-474.5 210,-474.5 210,-438.5 56,-438.5\" stroke=\"black\"/>\n<text font-family=\"Times,serif\" font-size=\"14.00\" text-anchor=\"middle\" x=\"133\" y=\"-452.8\">activation_20: Activation</text>\n</g>\n<!-- 139830224448704&#45;&gt;139830223350976 -->\n<g class=\"edge\" id=\"edge11\"><title>139830224448704-&gt;139830223350976</title>\n<path d=\"M133,-511.313C133,-503.289 133,-493.547 133,-484.569\" fill=\"none\" stroke=\"black\"/>\n<polygon fill=\"black\" points=\"136.5,-484.529 133,-474.529 129.5,-484.529 136.5,-484.529\" stroke=\"black\"/>\n</g>\n<!-- 139830222912984 -->\n<g class=\"node\" id=\"node13\"><title>139830222912984</title>\n<polygon fill=\"none\" points=\"66,-365.5 66,-401.5 200,-401.5 200,-365.5 66,-365.5\" stroke=\"black\"/>\n<text font-family=\"Times,serif\" font-size=\"14.00\" text-anchor=\"middle\" x=\"133\" y=\"-379.8\">conv2d_12: Conv2D</text>\n</g>\n<!-- 139830223350976&#45;&gt;139830222912984 -->\n<g class=\"edge\" id=\"edge12\"><title>139830223350976-&gt;139830222912984</title>\n<path d=\"M133,-438.313C133,-430.289 133,-420.547 133,-411.569\" fill=\"none\" stroke=\"black\"/>\n<polygon fill=\"black\" points=\"136.5,-411.529 133,-401.529 129.5,-411.529 136.5,-411.529\" stroke=\"black\"/>\n</g>\n<!-- 139830222989856 -->\n<g class=\"node\" id=\"node14\"><title>139830222989856</title>\n<polygon fill=\"none\" points=\"0,-292.5 0,-328.5 266,-328.5 266,-292.5 0,-292.5\" stroke=\"black\"/>\n<text font-family=\"Times,serif\" font-size=\"14.00\" text-anchor=\"middle\" x=\"133\" y=\"-306.8\">batch_normalization_12: BatchNormalization</text>\n</g>\n<!-- 139830222912984&#45;&gt;139830222989856 -->\n<g class=\"edge\" id=\"edge13\"><title>139830222912984-&gt;139830222989856</title>\n<path d=\"M133,-365.313C133,-357.289 133,-347.547 133,-338.569\" fill=\"none\" stroke=\"black\"/>\n<polygon fill=\"black\" points=\"136.5,-338.529 133,-328.529 129.5,-338.529 136.5,-338.529\" stroke=\"black\"/>\n</g>\n<!-- 139830222856544 -->\n<g class=\"node\" id=\"node15\"><title>139830222856544</title>\n<polygon fill=\"none\" points=\"56,-219.5 56,-255.5 210,-255.5 210,-219.5 56,-219.5\" stroke=\"black\"/>\n<text font-family=\"Times,serif\" font-size=\"14.00\" text-anchor=\"middle\" x=\"133\" y=\"-233.8\">activation_21: Activation</text>\n</g>\n<!-- 139830222989856&#45;&gt;139830222856544 -->\n<g class=\"edge\" id=\"edge14\"><title>139830222989856-&gt;139830222856544</title>\n<path d=\"M133,-292.313C133,-284.289 133,-274.547 133,-265.569\" fill=\"none\" stroke=\"black\"/>\n<polygon fill=\"black\" points=\"136.5,-265.529 133,-255.529 129.5,-265.529 136.5,-265.529\" stroke=\"black\"/>\n</g>\n<!-- 139830222508720 -->\n<g class=\"node\" id=\"node16\"><title>139830222508720</title>\n<polygon fill=\"none\" points=\"51,-146.5 51,-182.5 215,-182.5 215,-146.5 51,-146.5\" stroke=\"black\"/>\n<text font-family=\"Times,serif\" font-size=\"14.00\" text-anchor=\"middle\" x=\"133\" y=\"-160.8\">max_pool: MaxPooling2D</text>\n</g>\n<!-- 139830222856544&#45;&gt;139830222508720 -->\n<g class=\"edge\" id=\"edge15\"><title>139830222856544-&gt;139830222508720</title>\n<path d=\"M133,-219.313C133,-211.289 133,-201.547 133,-192.569\" fill=\"none\" stroke=\"black\"/>\n<polygon fill=\"black\" points=\"136.5,-192.529 133,-182.529 129.5,-192.529 136.5,-192.529\" stroke=\"black\"/>\n</g>\n<!-- 139830222164880 -->\n<g class=\"node\" id=\"node17\"><title>139830222164880</title>\n<polygon fill=\"none\" points=\"78.5,-73.5 78.5,-109.5 187.5,-109.5 187.5,-73.5 78.5,-73.5\" stroke=\"black\"/>\n<text font-family=\"Times,serif\" font-size=\"14.00\" text-anchor=\"middle\" x=\"133\" y=\"-87.8\">flatten_9: Flatten</text>\n</g>\n<!-- 139830222508720&#45;&gt;139830222164880 -->\n<g class=\"edge\" id=\"edge16\"><title>139830222508720-&gt;139830222164880</title>\n<path d=\"M133,-146.313C133,-138.289 133,-128.547 133,-119.569\" fill=\"none\" stroke=\"black\"/>\n<polygon fill=\"black\" points=\"136.5,-119.529 133,-109.529 129.5,-119.529 136.5,-119.529\" stroke=\"black\"/>\n</g>\n<!-- 139830222164712 -->\n<g class=\"node\" id=\"node18\"><title>139830222164712</title>\n<polygon fill=\"none\" points=\"98.5,-0.5 98.5,-36.5 167.5,-36.5 167.5,-0.5 98.5,-0.5\" stroke=\"black\"/>\n<text font-family=\"Times,serif\" font-size=\"14.00\" text-anchor=\"middle\" x=\"133\" y=\"-14.8\">fc: Dense</text>\n</g>\n<!-- 139830222164880&#45;&gt;139830222164712 -->\n<g class=\"edge\" id=\"edge17\"><title>139830222164880-&gt;139830222164712</title>\n<path d=\"M133,-73.3129C133,-65.2895 133,-55.5475 133,-46.5691\" fill=\"none\" stroke=\"black\"/>\n<polygon fill=\"black\" points=\"136.5,-46.5288 133,-36.5288 129.5,-46.5289 136.5,-46.5288\" stroke=\"black\"/>\n</g>\n</g>\n</svg>",
            "text/plain": [
              "<IPython.core.display.SVG object>"
            ]
          },
          "metadata": {
            "tags": []
          },
          "execution_count": 77
        }
      ]
    },
    {
      "metadata": {
        "id": "REqUnn8rLJWc",
        "colab_type": "code",
        "colab": {}
      },
      "cell_type": "code",
      "source": [
        ""
      ],
      "execution_count": 0,
      "outputs": []
    }
  ]
}